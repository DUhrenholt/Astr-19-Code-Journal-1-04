{
 "cells": [
  {
   "cell_type": "code",
   "execution_count": 1,
   "id": "79ae8c89",
   "metadata": {},
   "outputs": [],
   "source": [
    "import numpy as np"
   ]
  },
  {
   "cell_type": "code",
   "execution_count": 2,
   "id": "aaecb4c4",
   "metadata": {},
   "outputs": [],
   "source": [
    "class cat:\n",
    "    \n",
    "    def __init__(cat,length_of_arms=0.0,length_of_legs=9.8,number_of_legs=4,number_of_eyes=2,does_it_have_a_tail=True,is_it_furry=True):\n",
    "        cat.arm_length = length_of_arms\n",
    "        cat.leg_length = length_of_legs\n",
    "        cat.leg_number = number_of_legs\n",
    "        cat.eye_number = number_of_eyes\n",
    "        cat.tail = does_it_have_a_tail\n",
    "        cat.fur = is_it_furry\n",
    "        \n",
    "    def print(cat):\n",
    "        print(f\"The length of a cat's arms are {cat.arm_length}. Cats do not have arms.\")\n",
    "        print(f\"The length of a cat's legs are {cat.leg_length} inches.\")\n",
    "        print(f\"A cat has {cat.leg_number} legs.\")\n",
    "        print(f\"A cat has {cat.eye_number} eyes.\")\n",
    "        print(f\"Does a cat have a tail? {cat.tail}\")\n",
    "        print(f\"Is a cat furry? {cat.fur}\")\n"
   ]
  },
  {
   "cell_type": "code",
   "execution_count": 3,
   "id": "e3f5ee1b",
   "metadata": {},
   "outputs": [
    {
     "name": "stdout",
     "output_type": "stream",
     "text": [
      "<class '__main__.cat'>\n"
     ]
    }
   ],
   "source": [
    "print(cat)"
   ]
  }
 ],
 "metadata": {
  "kernelspec": {
   "display_name": "Python 3",
   "language": "python",
   "name": "python3"
  },
  "language_info": {
   "codemirror_mode": {
    "name": "ipython",
    "version": 3
   },
   "file_extension": ".py",
   "mimetype": "text/x-python",
   "name": "python",
   "nbconvert_exporter": "python",
   "pygments_lexer": "ipython3",
   "version": "3.9.4"
  }
 },
 "nbformat": 4,
 "nbformat_minor": 5
}
